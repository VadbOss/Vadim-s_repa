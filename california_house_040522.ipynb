{
  "nbformat": 4,
  "nbformat_minor": 0,
  "metadata": {
    "colab": {
      "name": "california_house-040522.ipynb",
      "provenance": [],
      "collapsed_sections": [],
      "authorship_tag": "ABX9TyN2MpR/UBb73PHOM6W10jS+",
      "include_colab_link": true
    },
    "kernelspec": {
      "name": "python3",
      "display_name": "Python 3"
    },
    "language_info": {
      "name": "python"
    }
  },
  "cells": [
    {
      "cell_type": "markdown",
      "metadata": {
        "id": "view-in-github",
        "colab_type": "text"
      },
      "source": [
        "<a href=\"https://colab.research.google.com/github/VadbOss/Vadim-s_repa/blob/main/california_house_040522.ipynb\" target=\"_parent\"><img src=\"https://colab.research.google.com/assets/colab-badge.svg\" alt=\"Open In Colab\"/></a>"
      ]
    },
    {
      "cell_type": "code",
      "execution_count": 43,
      "metadata": {
        "id": "u7p4Orc6ciAV"
      },
      "outputs": [],
      "source": [
        "import pandas as pd\n",
        "import numpy as np\n",
        "import sklearn\n",
        "import matplotlib.pyplot as plt\n",
        "import seaborn as sns"
      ]
    },
    {
      "cell_type": "code",
      "source": [
        "data = pd.read_csv('/content/sample_data/california_housing_train.csv')\n",
        "data_test = pd.read_csv('/content/sample_data/california_housing_test.csv')"
      ],
      "metadata": {
        "id": "BGa0lYuScvWd"
      },
      "execution_count": 44,
      "outputs": []
    },
    {
      "cell_type": "code",
      "source": [
        "df = pd.DataFrame(data)\n",
        "df_test = pd.DataFrame(data_test)"
      ],
      "metadata": {
        "id": "2vjvCPqTdA00"
      },
      "execution_count": 45,
      "outputs": []
    },
    {
      "cell_type": "code",
      "source": [
        "df.head()"
      ],
      "metadata": {
        "id": "LPwsiLtpiND8"
      },
      "execution_count": null,
      "outputs": []
    },
    {
      "cell_type": "code",
      "source": [
        "#df.info()"
      ],
      "metadata": {
        "id": "pC4GpOPWkoWn"
      },
      "execution_count": null,
      "outputs": []
    },
    {
      "cell_type": "code",
      "source": [
        "X_train = df.drop(['median_house_value'], axis=1)\n",
        "y_train = df['median_house_value']"
      ],
      "metadata": {
        "id": "vtO-8s1Oh-5P"
      },
      "execution_count": 46,
      "outputs": []
    },
    {
      "cell_type": "code",
      "source": [
        "X_test = df_test.drop(['median_house_value'], axis=1)\n",
        "y_test = df_test['median_house_value']"
      ],
      "metadata": {
        "id": "HJrYcWsxiZsE"
      },
      "execution_count": 47,
      "outputs": []
    },
    {
      "cell_type": "code",
      "source": [
        "print(X_train.shape)\n",
        "print(X_test.shape)\n",
        "print(y_train.shape)\n",
        "print(y_test.shape)\n",
        "print(df.shape)\n",
        "print(df_test.shape)"
      ],
      "metadata": {
        "colab": {
          "base_uri": "https://localhost:8080/"
        },
        "id": "pu-Nucq2i-CQ",
        "outputId": "28233c82-f147-40a7-a403-ebb83ee8b73b"
      },
      "execution_count": 48,
      "outputs": [
        {
          "output_type": "stream",
          "name": "stdout",
          "text": [
            "(17000, 8)\n",
            "(3000, 8)\n",
            "(17000,)\n",
            "(3000,)\n",
            "(17000, 9)\n",
            "(3000, 9)\n"
          ]
        }
      ]
    },
    {
      "cell_type": "code",
      "source": [
        "#df.info()\n",
        "#df.isna().sum()/df.shape[0]\n",
        "df.describe()"
      ],
      "metadata": {
        "id": "5HThvfdIdL0d"
      },
      "execution_count": null,
      "outputs": []
    },
    {
      "cell_type": "code",
      "source": [
        "#sns.pairplot(df)"
      ],
      "metadata": {
        "id": "ZiYkZa4Ldn2L"
      },
      "execution_count": null,
      "outputs": []
    },
    {
      "cell_type": "code",
      "source": [
        "plt.figure(figsize=(8, 6))\n",
        "sns.heatmap(df.corr(method='spearman'), annot=True, fmt='.1f');"
      ],
      "metadata": {
        "id": "JKBcHqAIdt3e"
      },
      "execution_count": null,
      "outputs": []
    },
    {
      "cell_type": "markdown",
      "source": [
        "# Строим модели"
      ],
      "metadata": {
        "id": "0FaKrQqJj1oM"
      }
    },
    {
      "cell_type": "code",
      "source": [
        "from sklearn.model_selection import cross_val_score, train_test_split, GridSearchCV\n",
        "from sklearn.metrics import mean_absolute_error, mean_absolute_percentage_error, mean_squared_error\n",
        "from sklearn import preprocessing\n",
        "import lightgbm\n",
        "from sklearn.linear_model import LinearRegression\n",
        "from sklearn.tree import DecisionTreeRegressor\n",
        "from sklearn.ensemble import RandomForestRegressor"
      ],
      "metadata": {
        "id": "hhkwCUAKjuOG"
      },
      "execution_count": 50,
      "outputs": []
    },
    {
      "cell_type": "code",
      "source": [
        "lr = LinearRegression()\n",
        "scores = cross_val_score(lr, X_train, y_train, cv=5, n_jobs= -1, scoring= 'neg_mean_absolute_error')\n",
        "print('LinearRegression cross validation MAE: ', -np.mean(scores))"
      ],
      "metadata": {
        "colab": {
          "base_uri": "https://localhost:8080/"
        },
        "id": "RidLAMOilLms",
        "outputId": "4d5078d6-f65d-47ad-d512-b3b0f5c69bec"
      },
      "execution_count": 58,
      "outputs": [
        {
          "output_type": "stream",
          "name": "stdout",
          "text": [
            "LinearRegression cross validation MAE:  53524.10779960257\n"
          ]
        }
      ]
    },
    {
      "cell_type": "code",
      "source": [
        "dt = DecisionTreeRegressor()\n",
        "scores = cross_val_score(dt, X_train, y_train, cv=5, n_jobs= -1, scoring= 'neg_mean_absolute_error')\n",
        "print('DecisionTreeRegression cross validation MAE: ', -np.mean(scores))"
      ],
      "metadata": {
        "colab": {
          "base_uri": "https://localhost:8080/"
        },
        "id": "TMayliUzn4_h",
        "outputId": "2bc2a1fb-9e4f-4df8-9378-e5d56bfc66a9"
      },
      "execution_count": 60,
      "outputs": [
        {
          "output_type": "stream",
          "name": "stdout",
          "text": [
            "DecisionTreeRegression cross validation MAE:  74002.28511764706\n"
          ]
        }
      ]
    },
    {
      "cell_type": "code",
      "source": [
        "rf = RandomForestRegressor(random_state=47)\n",
        "scores = cross_val_score(rf, X_train, y_train, cv=5, n_jobs= -1, scoring= 'neg_mean_absolute_error')\n",
        "print('RandomForestRegressor cross validation MAE: ', -np.mean(scores))"
      ],
      "metadata": {
        "colab": {
          "base_uri": "https://localhost:8080/"
        },
        "id": "G-NMAYSaoIkP",
        "outputId": "9ab6796d-d427-48b8-be0d-af4319267880"
      },
      "execution_count": 62,
      "outputs": [
        {
          "output_type": "stream",
          "name": "stdout",
          "text": [
            "RandomForestRegressor cross validation MAE:  62734.098148235295\n"
          ]
        }
      ]
    },
    {
      "cell_type": "code",
      "source": [
        "lgb = lightgbm.LGBMRegressor(random_state=47)\n",
        "scores = cross_val_score(lgb, X_train, y_train, cv=5, n_jobs= -1, scoring= 'neg_mean_absolute_error')\n",
        "print('Cross validation MAE: ', -np.mean(scores))"
      ],
      "metadata": {
        "colab": {
          "base_uri": "https://localhost:8080/"
        },
        "id": "jyo29vJ2ok9X",
        "outputId": "82117944-9b45-41a0-ba20-d99c26b7d868"
      },
      "execution_count": 64,
      "outputs": [
        {
          "output_type": "stream",
          "name": "stdout",
          "text": [
            "Cross validation MAE:  55895.86205199895\n"
          ]
        }
      ]
    },
    {
      "cell_type": "code",
      "source": [
        "def cv_params(model, param_grid):\n",
        "  scoring = 'neg_mean_absolute_error'\n",
        "\n",
        "  opt_params = GridSearchCV(\n",
        "      estimator= model,                  # Модель\n",
        "      param_grid= param_grid,            # Параметры\n",
        "      scoring= scoring,                  # Стратегия валидации\n",
        "      cv= 5,                             # Количество слоев кросс-валидации\n",
        "      n_jobs= -1)                        # Количество потоков для обучения, -1 = все\n",
        "\n",
        "  opt_params.fit(X_train, y_train)\n",
        "  params = opt_params.best_params_\n",
        "  best_score = opt_params.best_score_\n",
        "\n",
        "  print(f\"Best score: {round(-best_score, 2)}\")\n",
        "  print(f\"Best parameters: {params}\")\n",
        "\n",
        "  return params"
      ],
      "metadata": {
        "id": "1ry9pidWpH8M"
      },
      "execution_count": 65,
      "outputs": []
    },
    {
      "cell_type": "code",
      "source": [
        "lgb_param_grid = {\n",
        "    'max_depth': [4, 10, 15, -1],                 # Максимальная глубина дерева\n",
        "    'num_leaves': [25, 35, 45],                   # Максимальное количество листьев на деревьях\n",
        "    'n_estimators': [41, 100, 250, 500, 600]      # Количество деревьев\n",
        "}\n",
        "\n",
        "lgb_clean = lightgbm.LGBMRegressor(random_state=1)\n",
        "lgb_params = cv_params(lgb_clean, lgb_param_grid)"
      ],
      "metadata": {
        "colab": {
          "base_uri": "https://localhost:8080/"
        },
        "id": "WOpc76ZApb0Z",
        "outputId": "efe9786c-61ce-40a9-ec08-b55bce19abcb"
      },
      "execution_count": 66,
      "outputs": [
        {
          "output_type": "stream",
          "name": "stdout",
          "text": [
            "Best score: 53871.03\n",
            "Best parameters: {'max_depth': 4, 'n_estimators': 250, 'num_leaves': 25}\n"
          ]
        }
      ]
    },
    {
      "cell_type": "code",
      "source": [
        "print(lgb_params)"
      ],
      "metadata": {
        "colab": {
          "base_uri": "https://localhost:8080/"
        },
        "id": "08RCJ2NhpkMV",
        "outputId": "07a2508f-ee5c-4767-ea01-84597c6c392a"
      },
      "execution_count": 67,
      "outputs": [
        {
          "output_type": "stream",
          "name": "stdout",
          "text": [
            "{'max_depth': 4, 'n_estimators': 250, 'num_leaves': 25}\n"
          ]
        }
      ]
    },
    {
      "cell_type": "code",
      "source": [
        "rf_param_grid = {\n",
        "    'max_depth': [20, 25],\n",
        "    'n_estimators': [500, 800]\n",
        "}\n",
        "\n",
        "rf_clean = RandomForestRegressor(random_state=1)\n",
        "rf_params = cv_params(rf_clean, rf_param_grid)"
      ],
      "metadata": {
        "colab": {
          "base_uri": "https://localhost:8080/"
        },
        "id": "TE22_UQgpwdN",
        "outputId": "1da1b850-7540-4fbe-a1c8-5c90f8b78f63"
      },
      "execution_count": 68,
      "outputs": [
        {
          "output_type": "stream",
          "name": "stderr",
          "text": [
            "/usr/local/lib/python3.7/dist-packages/joblib/externals/loky/process_executor.py:705: UserWarning: A worker stopped while some jobs were given to the executor. This can be caused by a too short worker timeout or by a memory leak.\n",
            "  \"timeout or by a memory leak.\", UserWarning\n"
          ]
        },
        {
          "output_type": "stream",
          "name": "stdout",
          "text": [
            "Best score: 62216.33\n",
            "Best parameters: {'max_depth': 20, 'n_estimators': 500}\n"
          ]
        }
      ]
    },
    {
      "cell_type": "markdown",
      "source": [
        "# Итоговая модель на лучших параметрах"
      ],
      "metadata": {
        "id": "xWBaq99gqRcu"
      }
    },
    {
      "cell_type": "code",
      "source": [
        "lgb = lightgbm.LGBMRegressor(**lgb_params)\n",
        "lgb.fit(X_train, y_train)\n",
        "\n",
        "preds = lgb.predict(X_test)\n",
        "\n",
        "print(f\"MAPE: {round(mean_absolute_percentage_error(y_test, preds)*100, 2)}%\")\n",
        "print(f\"MAE: {round(mean_absolute_error(y_test, preds), 2)}\")"
      ],
      "metadata": {
        "colab": {
          "base_uri": "https://localhost:8080/"
        },
        "id": "jh4xqxatqVp-",
        "outputId": "84bf0944-ecd3-443a-9743-1163b8ed1e72"
      },
      "execution_count": 69,
      "outputs": [
        {
          "output_type": "stream",
          "name": "stdout",
          "text": [
            "MAPE: 18.71%\n",
            "MAE: 32943.83\n"
          ]
        }
      ]
    },
    {
      "cell_type": "code",
      "source": [
        "results = pd.DataFrame({'Model': np.round(preds, 1), 'Actual': y_test})\n",
        "results.reset_index().drop('index', axis=1)  "
      ],
      "metadata": {
        "colab": {
          "base_uri": "https://localhost:8080/",
          "height": 424
        },
        "id": "cUHd4YjjvC9W",
        "outputId": "8b828d64-6cf9-473b-bb3a-d423e6524d19"
      },
      "execution_count": 72,
      "outputs": [
        {
          "output_type": "execute_result",
          "data": {
            "text/plain": [
              "         Model    Actual\n",
              "0     422319.4  344700.0\n",
              "1     205899.3  176500.0\n",
              "2     264928.3  270500.0\n",
              "3     271900.3  330000.0\n",
              "4      77244.1   81700.0\n",
              "...        ...       ...\n",
              "2995  275310.3  225000.0\n",
              "2996  213805.2  237200.0\n",
              "2997   63991.4   62000.0\n",
              "2998  173566.2  162500.0\n",
              "2999  510879.7  500001.0\n",
              "\n",
              "[3000 rows x 2 columns]"
            ],
            "text/html": [
              "\n",
              "  <div id=\"df-6d218135-0606-4ef4-b649-bbe8270ffbe0\">\n",
              "    <div class=\"colab-df-container\">\n",
              "      <div>\n",
              "<style scoped>\n",
              "    .dataframe tbody tr th:only-of-type {\n",
              "        vertical-align: middle;\n",
              "    }\n",
              "\n",
              "    .dataframe tbody tr th {\n",
              "        vertical-align: top;\n",
              "    }\n",
              "\n",
              "    .dataframe thead th {\n",
              "        text-align: right;\n",
              "    }\n",
              "</style>\n",
              "<table border=\"1\" class=\"dataframe\">\n",
              "  <thead>\n",
              "    <tr style=\"text-align: right;\">\n",
              "      <th></th>\n",
              "      <th>Model</th>\n",
              "      <th>Actual</th>\n",
              "    </tr>\n",
              "  </thead>\n",
              "  <tbody>\n",
              "    <tr>\n",
              "      <th>0</th>\n",
              "      <td>422319.4</td>\n",
              "      <td>344700.0</td>\n",
              "    </tr>\n",
              "    <tr>\n",
              "      <th>1</th>\n",
              "      <td>205899.3</td>\n",
              "      <td>176500.0</td>\n",
              "    </tr>\n",
              "    <tr>\n",
              "      <th>2</th>\n",
              "      <td>264928.3</td>\n",
              "      <td>270500.0</td>\n",
              "    </tr>\n",
              "    <tr>\n",
              "      <th>3</th>\n",
              "      <td>271900.3</td>\n",
              "      <td>330000.0</td>\n",
              "    </tr>\n",
              "    <tr>\n",
              "      <th>4</th>\n",
              "      <td>77244.1</td>\n",
              "      <td>81700.0</td>\n",
              "    </tr>\n",
              "    <tr>\n",
              "      <th>...</th>\n",
              "      <td>...</td>\n",
              "      <td>...</td>\n",
              "    </tr>\n",
              "    <tr>\n",
              "      <th>2995</th>\n",
              "      <td>275310.3</td>\n",
              "      <td>225000.0</td>\n",
              "    </tr>\n",
              "    <tr>\n",
              "      <th>2996</th>\n",
              "      <td>213805.2</td>\n",
              "      <td>237200.0</td>\n",
              "    </tr>\n",
              "    <tr>\n",
              "      <th>2997</th>\n",
              "      <td>63991.4</td>\n",
              "      <td>62000.0</td>\n",
              "    </tr>\n",
              "    <tr>\n",
              "      <th>2998</th>\n",
              "      <td>173566.2</td>\n",
              "      <td>162500.0</td>\n",
              "    </tr>\n",
              "    <tr>\n",
              "      <th>2999</th>\n",
              "      <td>510879.7</td>\n",
              "      <td>500001.0</td>\n",
              "    </tr>\n",
              "  </tbody>\n",
              "</table>\n",
              "<p>3000 rows × 2 columns</p>\n",
              "</div>\n",
              "      <button class=\"colab-df-convert\" onclick=\"convertToInteractive('df-6d218135-0606-4ef4-b649-bbe8270ffbe0')\"\n",
              "              title=\"Convert this dataframe to an interactive table.\"\n",
              "              style=\"display:none;\">\n",
              "        \n",
              "  <svg xmlns=\"http://www.w3.org/2000/svg\" height=\"24px\"viewBox=\"0 0 24 24\"\n",
              "       width=\"24px\">\n",
              "    <path d=\"M0 0h24v24H0V0z\" fill=\"none\"/>\n",
              "    <path d=\"M18.56 5.44l.94 2.06.94-2.06 2.06-.94-2.06-.94-.94-2.06-.94 2.06-2.06.94zm-11 1L8.5 8.5l.94-2.06 2.06-.94-2.06-.94L8.5 2.5l-.94 2.06-2.06.94zm10 10l.94 2.06.94-2.06 2.06-.94-2.06-.94-.94-2.06-.94 2.06-2.06.94z\"/><path d=\"M17.41 7.96l-1.37-1.37c-.4-.4-.92-.59-1.43-.59-.52 0-1.04.2-1.43.59L10.3 9.45l-7.72 7.72c-.78.78-.78 2.05 0 2.83L4 21.41c.39.39.9.59 1.41.59.51 0 1.02-.2 1.41-.59l7.78-7.78 2.81-2.81c.8-.78.8-2.07 0-2.86zM5.41 20L4 18.59l7.72-7.72 1.47 1.35L5.41 20z\"/>\n",
              "  </svg>\n",
              "      </button>\n",
              "      \n",
              "  <style>\n",
              "    .colab-df-container {\n",
              "      display:flex;\n",
              "      flex-wrap:wrap;\n",
              "      gap: 12px;\n",
              "    }\n",
              "\n",
              "    .colab-df-convert {\n",
              "      background-color: #E8F0FE;\n",
              "      border: none;\n",
              "      border-radius: 50%;\n",
              "      cursor: pointer;\n",
              "      display: none;\n",
              "      fill: #1967D2;\n",
              "      height: 32px;\n",
              "      padding: 0 0 0 0;\n",
              "      width: 32px;\n",
              "    }\n",
              "\n",
              "    .colab-df-convert:hover {\n",
              "      background-color: #E2EBFA;\n",
              "      box-shadow: 0px 1px 2px rgba(60, 64, 67, 0.3), 0px 1px 3px 1px rgba(60, 64, 67, 0.15);\n",
              "      fill: #174EA6;\n",
              "    }\n",
              "\n",
              "    [theme=dark] .colab-df-convert {\n",
              "      background-color: #3B4455;\n",
              "      fill: #D2E3FC;\n",
              "    }\n",
              "\n",
              "    [theme=dark] .colab-df-convert:hover {\n",
              "      background-color: #434B5C;\n",
              "      box-shadow: 0px 1px 3px 1px rgba(0, 0, 0, 0.15);\n",
              "      filter: drop-shadow(0px 1px 2px rgba(0, 0, 0, 0.3));\n",
              "      fill: #FFFFFF;\n",
              "    }\n",
              "  </style>\n",
              "\n",
              "      <script>\n",
              "        const buttonEl =\n",
              "          document.querySelector('#df-6d218135-0606-4ef4-b649-bbe8270ffbe0 button.colab-df-convert');\n",
              "        buttonEl.style.display =\n",
              "          google.colab.kernel.accessAllowed ? 'block' : 'none';\n",
              "\n",
              "        async function convertToInteractive(key) {\n",
              "          const element = document.querySelector('#df-6d218135-0606-4ef4-b649-bbe8270ffbe0');\n",
              "          const dataTable =\n",
              "            await google.colab.kernel.invokeFunction('convertToInteractive',\n",
              "                                                     [key], {});\n",
              "          if (!dataTable) return;\n",
              "\n",
              "          const docLinkHtml = 'Like what you see? Visit the ' +\n",
              "            '<a target=\"_blank\" href=https://colab.research.google.com/notebooks/data_table.ipynb>data table notebook</a>'\n",
              "            + ' to learn more about interactive tables.';\n",
              "          element.innerHTML = '';\n",
              "          dataTable['output_type'] = 'display_data';\n",
              "          await google.colab.output.renderOutput(dataTable, element);\n",
              "          const docLink = document.createElement('div');\n",
              "          docLink.innerHTML = docLinkHtml;\n",
              "          element.appendChild(docLink);\n",
              "        }\n",
              "      </script>\n",
              "    </div>\n",
              "  </div>\n",
              "  "
            ]
          },
          "metadata": {},
          "execution_count": 72
        }
      ]
    }
  ]
}
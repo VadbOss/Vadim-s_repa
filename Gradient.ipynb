{
  "nbformat": 4,
  "nbformat_minor": 0,
  "metadata": {
    "colab": {
      "name": "Gradient.ipynb",
      "provenance": [],
      "collapsed_sections": [],
      "authorship_tag": "ABX9TyO9B9cZgF0MU+m5KB/6Fwuy",
      "include_colab_link": true
    },
    "kernelspec": {
      "name": "python3",
      "display_name": "Python 3"
    },
    "language_info": {
      "name": "python"
    }
  },
  "cells": [
    {
      "cell_type": "markdown",
      "metadata": {
        "id": "view-in-github",
        "colab_type": "text"
      },
      "source": [
        "<a href=\"https://colab.research.google.com/github/VadbOss/Vadim-s_repa/blob/main/Gradient.ipynb\" target=\"_parent\"><img src=\"https://colab.research.google.com/assets/colab-badge.svg\" alt=\"Open In Colab\"/></a>"
      ]
    },
    {
      "cell_type": "code",
      "execution_count": 14,
      "metadata": {
        "id": "MDLm7tvXNomO"
      },
      "outputs": [],
      "source": [
        "import time\n",
        "import numpy as np\n",
        "import matplotlib.pyplot as plt"
      ]
    },
    {
      "cell_type": "code",
      "source": [
        "def f(x):\n",
        "    return x*x - 5*x + 5\n",
        "\n",
        "def df(x):\n",
        "    return 2*x - 5"
      ],
      "metadata": {
        "id": "a5UMXjA9Ntzx"
      },
      "execution_count": 15,
      "outputs": []
    },
    {
      "cell_type": "code",
      "source": [
        "N = 20     # число итераций\n",
        "xx = 0      # начальное значение\n",
        "lmd = 0.9  # шаг сходимости"
      ],
      "metadata": {
        "id": "Ga1H5z-TNyEI"
      },
      "execution_count": 16,
      "outputs": []
    },
    {
      "cell_type": "code",
      "source": [
        "x_plt = np.arange(0, 5.0, 0.1)\n",
        "f_plt = [f(x) for x in x_plt]"
      ],
      "metadata": {
        "id": "5OnFFLImN2Na"
      },
      "execution_count": 17,
      "outputs": []
    },
    {
      "cell_type": "code",
      "source": [
        "plt.ion()   # включение интерактивного режима отображения графиков\n",
        "fig, ax = plt.subplots()    # Создание окна и осей для графика\n",
        "ax.grid(True)   # отображение сетки на графике\n",
        "\n",
        "ax.plot(x_plt, f_plt)                   # отображение параболы\n",
        "point = ax.scatter(xx, f(xx), c='red')  # отображение точки красным цветом\n",
        "\n",
        "for i in range(N):\n",
        "    xx = xx - lmd*df(xx)    # изменение аргумента на текущей итерации\n",
        "\n",
        "    point.set_offsets([xx, f(xx)])  # отображение нового положения точки\n",
        "\n",
        "    # перерисовка графика и задержка на 20 мс\n",
        "    fig.canvas.draw()\n",
        "    fig.canvas.flush_events()\n",
        "    time.sleep(0.2)\n",
        "\n",
        "plt.ioff()   # выключение интерактивного режима отображения графиков\n",
        "\n",
        "print(xx)\n",
        "ax.scatter(xx, f(xx), c='blue')\n",
        "plt.show()"
      ],
      "metadata": {
        "colab": {
          "base_uri": "https://localhost:8080/",
          "height": 282
        },
        "id": "fabThkTbN6JK",
        "outputId": "67126322-06c7-4058-dd9f-61bb0d07cdf6"
      },
      "execution_count": 18,
      "outputs": [
        {
          "output_type": "stream",
          "name": "stdout",
          "text": [
            "2.4711769623848285\n"
          ]
        },
        {
          "output_type": "display_data",
          "data": {
            "image/png": "[encoded data removed]",
            "text/plain": [
              "<Figure size 432x288 with 1 Axes>"
            ]
          },
          "metadata": {
            "needs_background": "light"
          }
        }
      ]
    },
    {
      "cell_type": "code",
      "source": [
        ""
      ],
      "metadata": {
        "id": "-fjd_tmxOAjy"
      },
      "execution_count": 18,
      "outputs": []
    }
  ]
}